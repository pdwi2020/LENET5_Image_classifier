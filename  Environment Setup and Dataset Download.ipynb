{
 "cells": [
  {
   "cell_type": "code",
   "execution_count": null,
   "metadata": {},
   "outputs": [],
   "source": [
    "# Install Kaggle API (run this if not already installed)\n",
    "!pip install -q kaggle\n",
    "\n",
    "# Upload Kaggle API credentials\n",
    "from google.colab import files\n",
    "files.upload()  # Upload 'kaggle.json' here\n",
    "\n",
    "# Set up Kaggle configuration\n",
    "!mkdir ~/.kaggle\n",
    "!cp kaggle.json ~/.kaggle/\n",
    "!chmod 600 ~/.kaggle/kaggle.json\n",
    "\n",
    "# Download and unzip EuroSAT dataset\n",
    "!kaggle datasets download -d apollo2506/eurosat-dataset\n",
    "!unzip \"/content/eurosat-dataset.zip\""
   ]
  }
 ],
 "metadata": {
  "language_info": {
   "name": "python"
  }
 },
 "nbformat": 4,
 "nbformat_minor": 2
}
