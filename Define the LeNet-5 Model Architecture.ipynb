{
 "cells": [
  {
   "cell_type": "code",
   "execution_count": null,
   "metadata": {},
   "outputs": [],
   "source": [
    "def lenet5():\n",
    "    model = models.Sequential([\n",
    "        layers.Conv2D(6, (5, 5), activation='tanh', input_shape=(IMAGE_SIZE, IMAGE_SIZE, 3), padding='same'),\n",
    "        layers.AveragePooling2D(),\n",
    "        layers.Conv2D(16, (5, 5), activation='tanh'),\n",
    "        layers.AveragePooling2D(),\n",
    "        layers.Conv2D(120, (5, 5), activation='tanh'),\n",
    "        layers.Flatten(),\n",
    "        layers.Dense(84, activation='tanh'),\n",
    "        layers.Dense(len(class_names), activation='softmax')  # Output layer\n",
    "    ])\n",
    "    return model\n",
    "\n",
    "# Instantiate the model\n",
    "model = lenet5()"
   ]
  }
 ],
 "metadata": {
  "language_info": {
   "name": "python"
  }
 },
 "nbformat": 4,
 "nbformat_minor": 2
}
