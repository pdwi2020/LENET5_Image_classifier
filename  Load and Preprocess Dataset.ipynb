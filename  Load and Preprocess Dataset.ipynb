{
 "cells": [
  {
   "cell_type": "code",
   "execution_count": null,
   "metadata": {},
   "outputs": [],
   "source": [
    "# Define parameters\n",
    "IMAGE_SIZE = 64\n",
    "BATCH_SIZE = 32\n",
    "\n",
    "# Load dataset\n",
    "ds = tf.keras.preprocessing.image_dataset_from_directory(\n",
    "    \"/content/EuroSAT\",\n",
    "    shuffle=True,\n",
    "    image_size=(IMAGE_SIZE, IMAGE_SIZE),\n",
    "    batch_size=BATCH_SIZE\n",
    ")\n",
    "\n",
    "# Extract class names\n",
    "class_names = ds.class_names\n",
    "print(\"Class names:\", class_names)"
   ]
  }
 ],
 "metadata": {
  "language_info": {
   "name": "python"
  }
 },
 "nbformat": 4,
 "nbformat_minor": 2
}
